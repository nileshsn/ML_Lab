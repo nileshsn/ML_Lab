{
 "cells": [
  {
   "cell_type": "markdown",
   "id": "524e4319",
   "metadata": {},
   "source": [
    "# 🚗 Car Data Analysis and Preprocessing\n",
    "This notebook contains complete solutions for analyzing and preprocessing a car dataset using pandas, matplotlib, seaborn, and scikit-learn."
   ]
  },
  {
   "cell_type": "code",
   "execution_count": null,
   "id": "e9eb746d",
   "metadata": {},
   "outputs": [],
   "source": [
    "import pandas as pd\n",
    "import numpy as np\n",
    "import matplotlib.pyplot as plt\n",
    "import seaborn as sns\n",
    "from sklearn.preprocessing import LabelEncoder, OneHotEncoder, StandardScaler\n",
    "from sklearn.model_selection import train_test_split\n",
    "\n",
    "# Load dataset\n",
    "df = pd.read_csv(\"cars.csv\")  # Replace with your actual file\n",
    "df.head()"
   ]
  },
  {
   "cell_type": "code",
   "execution_count": null,
   "id": "4d1acabc",
   "metadata": {},
   "outputs": [],
   "source": [
    "df.info()"
   ]
  },
  {
   "cell_type": "code",
   "execution_count": null,
   "id": "d9093d5d",
   "metadata": {},
   "outputs": [],
   "source": [
    "df.shape"
   ]
  },
  {
   "cell_type": "code",
   "execution_count": null,
   "id": "889c13ff",
   "metadata": {},
   "outputs": [],
   "source": [
    "df = df.drop_duplicates()"
   ]
  },
  {
   "cell_type": "code",
   "execution_count": null,
   "id": "06146608",
   "metadata": {},
   "outputs": [],
   "source": [
    "df.shape"
   ]
  },
  {
   "cell_type": "code",
   "execution_count": null,
   "id": "e20f3315",
   "metadata": {},
   "outputs": [],
   "source": [
    "df.describe()"
   ]
  },
  {
   "cell_type": "code",
   "execution_count": null,
   "id": "d00a98a3",
   "metadata": {},
   "outputs": [],
   "source": [
    "df.isnull().sum()"
   ]
  },
  {
   "cell_type": "code",
   "execution_count": null,
   "id": "812c39d5",
   "metadata": {},
   "outputs": [],
   "source": [
    "most_missing = df.isnull().sum().idxmax()\n",
    "df.drop(columns=[most_missing], inplace=True)"
   ]
  },
  {
   "cell_type": "code",
   "execution_count": null,
   "id": "339997b6",
   "metadata": {},
   "outputs": [],
   "source": [
    "categorical = df.select_dtypes(include=['object']).columns\n",
    "df = df.dropna(subset=categorical)"
   ]
  },
  {
   "cell_type": "code",
   "execution_count": null,
   "id": "1688dfc4",
   "metadata": {},
   "outputs": [],
   "source": [
    "numerical = df.select_dtypes(include=['number']).columns\n",
    "df[df[numerical].isnull().any(axis=1)]"
   ]
  },
  {
   "cell_type": "code",
   "execution_count": null,
   "id": "610d2be5",
   "metadata": {},
   "outputs": [],
   "source": [
    "df_sorted = df.sort_values(by='price', ascending=False)\n",
    "print(\"Most expensive:\\n\", df_sorted.head(1))\n",
    "print(\"Least expensive:\\n\", df_sorted.tail(1))"
   ]
  },
  {
   "cell_type": "code",
   "execution_count": null,
   "id": "ccd85a4e",
   "metadata": {},
   "outputs": [],
   "source": [
    "def min_max(column):\n",
    "    return column.min(), column.max()"
   ]
  },
  {
   "cell_type": "code",
   "execution_count": null,
   "id": "19de42c6",
   "metadata": {},
   "outputs": [],
   "source": [
    "print(\"Horsepower:\", min_max(df['horsepower']))\n",
    "print(\"Length:\", min_max(df['length']))\n",
    "print(\"Fuel Efficiency:\", min_max(df['fuelefficiency']))"
   ]
  },
  {
   "cell_type": "code",
   "execution_count": null,
   "id": "54ee3428",
   "metadata": {},
   "outputs": [],
   "source": [
    "df[['price', 'sales', 'horsepower', 'fuelefficiency']].hist(figsize=(10,8))\n",
    "plt.tight_layout()\n",
    "plt.show()"
   ]
  },
  {
   "cell_type": "code",
   "execution_count": null,
   "id": "f33e5499",
   "metadata": {},
   "outputs": [],
   "source": [
    "sns.kdeplot(df['length'], shade=True)\n",
    "plt.title(\"Density of Length\")\n",
    "plt.show()"
   ]
  },
  {
   "cell_type": "code",
   "execution_count": null,
   "id": "f9f841f6",
   "metadata": {},
   "outputs": [],
   "source": [
    "df.groupby('manufacturer').size()"
   ]
  },
  {
   "cell_type": "code",
   "execution_count": null,
   "id": "e0938d35",
   "metadata": {},
   "outputs": [],
   "source": [
    "df.select_dtypes(include=['number']).head()"
   ]
  },
  {
   "cell_type": "code",
   "execution_count": null,
   "id": "5d494a44",
   "metadata": {},
   "outputs": [],
   "source": [
    "df['price'].corr(df['sales'])"
   ]
  },
  {
   "cell_type": "code",
   "execution_count": null,
   "id": "093f3bd1",
   "metadata": {},
   "outputs": [],
   "source": [
    "sns.scatterplot(x='price', y='sales', data=df)\n",
    "plt.show()"
   ]
  },
  {
   "cell_type": "code",
   "execution_count": null,
   "id": "d31d98d2",
   "metadata": {},
   "outputs": [],
   "source": [
    "sns.pairplot(df[['price', 'sales', 'horsepower', 'fuelefficiency']])\n",
    "plt.show()"
   ]
  },
  {
   "cell_type": "code",
   "execution_count": null,
   "id": "767ff2b6",
   "metadata": {},
   "outputs": [],
   "source": [
    "sns.boxplot(x='manufacturer', y='sales', data=df)\n",
    "plt.xticks(rotation=90)\n",
    "plt.show()"
   ]
  },
  {
   "cell_type": "code",
   "execution_count": null,
   "id": "e0149f99",
   "metadata": {},
   "outputs": [],
   "source": [
    "for col in ['price', 'horsepower', 'fuelefficiency']:\n",
    "    sns.boxplot(x='manufacturer', y=col, data=df)\n",
    "    plt.xticks(rotation=90)\n",
    "    plt.title(f'{col} vs Manufacturer')\n",
    "    plt.show()"
   ]
  },
  {
   "cell_type": "code",
   "execution_count": null,
   "id": "a7815115",
   "metadata": {},
   "outputs": [],
   "source": [
    "X = df.drop('sales', axis=1)\n",
    "y = df['sales']"
   ]
  },
  {
   "cell_type": "code",
   "execution_count": null,
   "id": "888532b8",
   "metadata": {},
   "outputs": [],
   "source": [
    "le = LabelEncoder()\n",
    "for col in X.select_dtypes(include='object').columns:\n",
    "    X[col] = le.fit_transform(X[col])"
   ]
  },
  {
   "cell_type": "code",
   "execution_count": null,
   "id": "5f123382",
   "metadata": {},
   "outputs": [],
   "source": [
    "X = pd.get_dummies(X, columns=['vehicletype'], drop_first=True)"
   ]
  },
  {
   "cell_type": "code",
   "execution_count": null,
   "id": "de2b4d30",
   "metadata": {},
   "outputs": [],
   "source": [
    "X_train, X_test, y_train, y_test = train_test_split(X, y, test_size=0.3, random_state=42)"
   ]
  },
  {
   "cell_type": "code",
   "execution_count": null,
   "id": "b413f7e4",
   "metadata": {},
   "outputs": [],
   "source": [
    "scaler = StandardScaler()\n",
    "X_train_scaled = scaler.fit_transform(X_train)\n",
    "X_test_scaled = scaler.transform(X_test)"
   ]
  }
 ],
 "metadata": {
  "language": "python"
 },
 "nbformat": 4,
 "nbformat_minor": 5
}