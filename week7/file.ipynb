{
 "cells": [
  {
   "cell_type": "code",
   "execution_count": null,
   "metadata": {},
   "outputs": [],
   "source": [
    "import pandas as pd\n",
    "\n",
    "# Create a DataFrame for training data\n",
    "train_df = pd.DataFrame({\n",
    "    'text': newsgroups_train.data,\n",
    "    'target': newsgroups_train.target,\n",
    "    'category': [newsgroups_train.target_names[target] for target in newsgroups_train.target]\n",
    "})\n",
    "\n",
    "# Display the first few rows of the training data\n",
    "print(\"Training Data Preview:\")\n",
    "print(train_df.head())\n",
    "\n",
    "# Save the training data to a CSV file\n",
    "train_df.to_csv('newsgroups_train1.csv', index=False)\n",
    "print(\"Training data has been saved to 'newsgroups_train.csv'\")\n",
    "\n",
    "# Create a DataFrame for test data\n",
    "test_df = pd.DataFrame({\n",
    "    'text': newsgroups_test.data,\n",
    "    'target': newsgroups_test.target,\n",
    "    'category': [newsgroups_test.target_names[target] for target in newsgroups_test.target]\n",
    "})\n",
    "\n",
    "# Display the first few rows of the test data\n",
    "print(\"Test Data Preview:\")\n",
    "print(test_df.head())\n",
    "\n",
    "# Save the test data to a CSV file\n",
    "test_df.to_csv('newsgroups_test1.csv', index=False)\n",
    "print(\"Test data has been saved to 'newsgroups_test.csv'\")"
   ]
  }
 ],
 "metadata": {
  "language_info": {
   "name": "python"
  }
 },
 "nbformat": 4,
 "nbformat_minor": 2
}
